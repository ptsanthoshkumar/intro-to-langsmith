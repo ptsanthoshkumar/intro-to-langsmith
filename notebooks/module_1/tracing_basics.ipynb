{
  "cells": [
    {
      "cell_type": "markdown",
      "metadata": {
        "id": "view-in-github",
        "colab_type": "text"
      },
      "source": [
        "<a href=\"https://colab.research.google.com/github/ptsanthoshkumar/intro-to-langsmith/blob/main/notebooks/module_1/tracing_basics.ipynb\" target=\"_parent\"><img src=\"https://colab.research.google.com/assets/colab-badge.svg\" alt=\"Open In Colab\"/></a>"
      ]
    },
    {
      "cell_type": "markdown",
      "metadata": {
        "id": "1-yp5wgdwVYE"
      },
      "source": [
        "# Tracing Basics"
      ]
    },
    {
      "cell_type": "markdown",
      "metadata": {
        "id": "gacW-yU5wVYG"
      },
      "source": [
        "### Setup"
      ]
    },
    {
      "cell_type": "markdown",
      "metadata": {
        "id": "3eTR0Av9wVYG"
      },
      "source": [
        "Make sure you set your environment variables, including your OpenAI API key."
      ]
    },
    {
      "cell_type": "code",
      "execution_count": null,
      "metadata": {
        "id": "r0OLHkr6wVYH"
      },
      "outputs": [],
      "source": [
        "# You can set them inline\n",
        "import os\n",
        "os.environ[\"OPENAI_API_KEY\"] = \"\"\n",
        "os.environ[\"LANGCHAIN_API_KEY\"] = \"\"\n",
        "os.environ[\"LANGCHAIN_TRACING_V2\"] = \"true\"\n",
        "os.environ[\"LANGCHAIN_PROJECT\"] = \"langsmith-academy\""
      ]
    },
    {
      "cell_type": "code",
      "source": [
        "from google.colab import userdata\n",
        "GOOGLE_API_KEY=userdata.get('GOOGLE_API_KEY')\n",
        "LANGCHAIN_API_KEY=userdata.get('LANGCHAIN_API_KEY')"
      ],
      "metadata": {
        "id": "llISOxaVwij5"
      },
      "execution_count": 1,
      "outputs": []
    },
    {
      "cell_type": "code",
      "execution_count": null,
      "metadata": {
        "id": "jSeyTEGRwVYI"
      },
      "outputs": [],
      "source": [
        "# Or you can use a .env file\n",
        "from dotenv import load_dotenv\n",
        "load_dotenv(dotenv_path=\"../../.env\", override=True)"
      ]
    },
    {
      "cell_type": "markdown",
      "metadata": {
        "id": "Xd837Ju8wVYI"
      },
      "source": [
        "### Tracing with @traceable"
      ]
    },
    {
      "cell_type": "markdown",
      "metadata": {
        "id": "P3qrjqHTwVYI"
      },
      "source": [
        "The @traceable decorator is a simple way to log traces from the LangSmith Python SDK. Simply decorate any function with @traceable.\n",
        "\n",
        "The decorator works by creating a run tree for you each time the function is called and inserting it within the current trace. The function inputs, name, and other information is then streamed to LangSmith. If the function raises an error or if it returns a response, that information is also added to the tree, and updates are patched to LangSmith so you can detect and diagnose sources of errors. This is all done on a background thread to avoid blocking your app's execution."
      ]
    },
    {
      "cell_type": "code",
      "execution_count": null,
      "metadata": {
        "id": "N6mSnA1mwVYJ"
      },
      "outputs": [],
      "source": [
        "# TODO: Import traceable\n",
        "from openai import OpenAI\n",
        "from typing import List\n",
        "import nest_asyncio\n",
        "from utils import get_vector_db_retriever\n",
        "\n",
        "MODEL_PROVIDER = \"openai\"\n",
        "MODEL_NAME = \"gpt-4o-mini\"\n",
        "APP_VERSION = 1.0\n",
        "RAG_SYSTEM_PROMPT = \"\"\"You are an assistant for question-answering tasks.\n",
        "Use the following pieces of retrieved context to answer the latest question in the conversation.\n",
        "If you don't know the answer, just say that you don't know.\n",
        "Use three sentences maximum and keep the answer concise.\n",
        "\"\"\"\n",
        "\n",
        "openai_client = OpenAI()\n",
        "nest_asyncio.apply()\n",
        "retriever = get_vector_db_retriever()\n",
        "\n",
        "# TODO: Set up tracing for each function\n",
        "def retrieve_documents(question: str):\n",
        "    return retriever.invoke(question)   # NOTE: This is a LangChain vector db retriever, so this .invoke() call will be traced automatically\n",
        "\n",
        "\n",
        "def generate_response(question: str, documents):\n",
        "    formatted_docs = \"\\n\\n\".join(doc.page_content for doc in documents)\n",
        "    messages = [\n",
        "        {\n",
        "            \"role\": \"system\",\n",
        "            \"content\": RAG_SYSTEM_PROMPT\n",
        "        },\n",
        "        {\n",
        "            \"role\": \"user\",\n",
        "            \"content\": f\"Context: {formatted_docs} \\n\\n Question: {question}\"\n",
        "        }\n",
        "    ]\n",
        "    return call_openai(messages)\n",
        "\n",
        "\n",
        "def call_openai(\n",
        "    messages: List[dict], model: str = MODEL_NAME, temperature: float = 0.0\n",
        ") -> str:\n",
        "    return openai_client.chat.completions.create(\n",
        "        model=model,\n",
        "        messages=messages,\n",
        "        temperature=temperature,\n",
        "    )\n",
        "\n",
        "\n",
        "def langsmith_rag(question: str):\n",
        "    documents = retrieve_documents(question)\n",
        "    response = generate_response(question, documents)\n",
        "    return response.choices[0].message.content\n"
      ]
    },
    {
      "cell_type": "markdown",
      "metadata": {
        "id": "VTbilQD0wVYJ"
      },
      "source": [
        "@traceable handles the RunTree lifecycle for you!"
      ]
    },
    {
      "cell_type": "code",
      "execution_count": null,
      "metadata": {
        "id": "-b4sxQI1wVYK"
      },
      "outputs": [],
      "source": [
        "question = \"How can I trace with the @traceable decorator?\"\n",
        "ai_answer = langsmith_rag(question)\n",
        "print(ai_answer)"
      ]
    },
    {
      "cell_type": "markdown",
      "metadata": {
        "id": "Ur93igbJwVYK"
      },
      "source": [
        "##### Let's take a look in LangSmith!"
      ]
    },
    {
      "cell_type": "markdown",
      "metadata": {
        "id": "mRIXQLluwVYK"
      },
      "source": [
        "### Adding Metadata"
      ]
    },
    {
      "cell_type": "markdown",
      "metadata": {
        "id": "YcS5EsIkwVYL"
      },
      "source": [
        "LangSmith supports sending arbitrary metadata along with traces.\n",
        "\n",
        "Metadata is a collection of key-value pairs that can be attached to runs. Metadata can be used to store additional information about a run, such as the version of the application that generated the run, the environment in which the run was generated, or any other information that you want to associate with a run. Similar to tags, you can use metadata to filter runs in the LangSmith UI, and can be used to group runs together for analysis."
      ]
    },
    {
      "cell_type": "code",
      "execution_count": null,
      "metadata": {
        "id": "KfXNgtllwVYL"
      },
      "outputs": [],
      "source": [
        "from langsmith import traceable\n",
        "\n",
        "@traceable(\n",
        "    # TODO: Add Metadata\n",
        "    # metadata={\"vectordb\": \"sklearn\"}\n",
        ")\n",
        "def retrieve_documents(question: str):\n",
        "    return retriever.invoke(question)\n",
        "\n",
        "@traceable\n",
        "def generate_response(question: str, documents):\n",
        "    formatted_docs = \"\\n\\n\".join(doc.page_content for doc in documents)\n",
        "    messages = [\n",
        "        {\n",
        "            \"role\": \"system\",\n",
        "            \"content\": RAG_SYSTEM_PROMPT\n",
        "        },\n",
        "        {\n",
        "            \"role\": \"user\",\n",
        "            \"content\": f\"Context: {formatted_docs} \\n\\n Question: {question}\"\n",
        "        }\n",
        "    ]\n",
        "    return call_openai(messages)\n",
        "\n",
        "@traceable(\n",
        "    # TODO: Add Metadata\n",
        "    # metadata={\"model_name\": MODEL_NAME, \"model_provider\": MODEL_PROVIDER}\n",
        ")\n",
        "def call_openai(\n",
        "    messages: List[dict], model: str = MODEL_NAME, temperature: float = 0.0\n",
        ") -> str:\n",
        "    return openai_client.chat.completions.create(\n",
        "        model=model,\n",
        "        messages=messages,\n",
        "        temperature=temperature,\n",
        "    )\n",
        "\n",
        "@traceable\n",
        "def langsmith_rag(question: str):\n",
        "    documents = retrieve_documents(question)\n",
        "    response = generate_response(question, documents)\n",
        "    return response.choices[0].message.content\n"
      ]
    },
    {
      "cell_type": "code",
      "execution_count": null,
      "metadata": {
        "id": "fq_BjA0_wVYL"
      },
      "outputs": [],
      "source": [
        "question = \"How do I add Metadata to a Run with @traceable?\"\n",
        "ai_answer = langsmith_rag(question)\n",
        "print(ai_answer)"
      ]
    },
    {
      "cell_type": "markdown",
      "metadata": {
        "id": "H8isbfsSwVYL"
      },
      "source": [
        "You can also add metadata at runtime!"
      ]
    },
    {
      "cell_type": "code",
      "execution_count": null,
      "metadata": {
        "id": "Wbrckyd6wVYL"
      },
      "outputs": [],
      "source": [
        "question = \"How do I add metadata at runtime?\"\n",
        "ai_answer = langsmith_rag(question, langsmith_extra={\"metadata\": {\"runtime_metadata\": \"foo\"}})\n",
        "print(ai_answer)"
      ]
    },
    {
      "cell_type": "markdown",
      "metadata": {
        "id": "pfSLSUJzwVYL"
      },
      "source": [
        "##### Let's take a look in LangSmith!"
      ]
    }
  ],
  "metadata": {
    "kernelspec": {
      "display_name": "ls-academy",
      "language": "python",
      "name": "python3"
    },
    "language_info": {
      "codemirror_mode": {
        "name": "ipython",
        "version": 3
      },
      "file_extension": ".py",
      "mimetype": "text/x-python",
      "name": "python",
      "nbconvert_exporter": "python",
      "pygments_lexer": "ipython3",
      "version": "3.9.6"
    },
    "colab": {
      "provenance": [],
      "include_colab_link": true
    }
  },
  "nbformat": 4,
  "nbformat_minor": 0
}